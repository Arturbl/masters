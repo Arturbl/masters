{
 "cells": [
  {
   "cell_type": "code",
   "execution_count": 157,
   "outputs": [],
   "source": [
    "import tdmclient.notebook\n",
    "await tdmclient.notebook.stop()"
   ],
   "metadata": {
    "collapsed": false,
    "ExecuteTime": {
     "end_time": "2023-12-09T20:43:08.624409500Z",
     "start_time": "2023-12-09T20:43:08.187215400Z"
    }
   }
  },
  {
   "cell_type": "code",
   "execution_count": 158,
   "outputs": [],
   "source": [
    "import matplotlib.pyplot as plt\n",
    "import numpy as np\n",
    "import heapq\n",
    "import os\n",
    "import asyncio\n",
    "import tdmclient.notebook\n",
    "await tdmclient.notebook.start()"
   ],
   "metadata": {
    "collapsed": false,
    "ExecuteTime": {
     "end_time": "2023-12-09T20:43:09.098697100Z",
     "start_time": "2023-12-09T20:43:08.618138400Z"
    }
   }
  },
  {
   "cell_type": "code",
   "execution_count": 159,
   "metadata": {
    "ExecuteTime": {
     "end_time": "2023-12-09T20:43:09.127369500Z",
     "start_time": "2023-12-09T20:43:09.108229200Z"
    }
   },
   "outputs": [],
   "source": [
    "class Maze():\n",
    "    def __init__(self,img_file,start,end,width):\n",
    "        self.img_file=img_file\n",
    "        self.maze_img=plt.imread(self.img_file)\n",
    "        self.maze_img_array = np.asarray(self.maze_img)\n",
    "        self.maze_grid=self.flatten(self.maze_img_array)\n",
    "        self.start=start\n",
    "        self.end=end\n",
    "        self.obstacles=set()\n",
    "        self.obstaclesidx=set()\n",
    "        self.width=width\n",
    "        self.get_obstacles()\n",
    "\n",
    "    def show(self):\n",
    "        image = plt.imread(self.img_file)\n",
    "        plt.imshow(image)\n",
    "        plt.plot(self.start[1],self.start[0],'o')\n",
    "        plt.plot(self.end[1],self.end[0],'x')\n",
    "\n",
    "\n",
    "    def wall_string(self,x,y):\n",
    "        return f'\\t<wall x=\"{x}\" y=\"{y}\" l1=\"{self.width}\" l2=\"{self.width}\" h=\"10.00\" color=\"red\" angle=\"0\" />\\n'\n",
    "\n",
    "    def place_robot(self, x, y):\n",
    "        return f'\\t<robot type=\"thymio2\" x=\"{x}\" y=\"{y}\" port=\"33334\" angle=\"-1.57\" name=\"Tim\" nodeId=\"1\"/>\\n'\n",
    "\n",
    "    def define_area(self, x, y, name):\n",
    "        return f'\\t<area name=\"{name}\">\\n\\t\\t<point x=\"{x-10}\" y=\"{y-10}\" />\\n\\t\\t<point x=\"{x+self.width}\" y=\"{y-10}\" />\\n\\\n",
    "        \\t\\t<point x=\"{x+self.width}\" y=\"{y+self.width}\" />\\n\\\n",
    "        \\t\\t<point x=\"{x-50}\" y=\"{y+self.width}\" />\\n\\t</area>\\n'\n",
    "\n",
    "    def flatten(self,np_array):\n",
    "        return np_array[:,:,0]\n",
    "\n",
    "    def write_playground(self):\n",
    "        with open('RobM2023.playground','r') as firstfile, open('RobM2023_2.playground','w') as secondfile:\n",
    "            lines = firstfile.readlines()\n",
    "            lastline = lines[-1]\n",
    "            lines = lines[:-1]\n",
    "            for line in lines:\n",
    "                secondfile.write(line)\n",
    "\n",
    "            secondfile.write(self.place_robot(self.start[0]*self.width, self.start[1]*self.width))\n",
    "            secondfile.write(self.define_area(self.start[0]*self.width, self.start[1]*self.width, 'start'))\n",
    "            secondfile.write(self.define_area(self.end[0]*self.width, self.end[1]*self.width, 'end'))\n",
    "\n",
    "            for i in range(len(self.maze_grid)):\n",
    "                for j in range(len(self.maze_grid[0])):\n",
    "                    if(self.maze_grid[i, j] == 0):\n",
    "                        secondfile.write(self.wall_string(i*self.width + self.width/2, j*self.width + self.width/2))\n",
    "            secondfile.writelines(lastline)\n",
    "\n",
    "    def get_obstacles(self):\n",
    "        for i in range(len(self.maze_grid)):\n",
    "            for j in range(len(self.maze_grid[0])):\n",
    "                if(self.maze_grid[i,j]==0):\n",
    "                    self.obstacles.add((i*self.width,j*self.width))\n",
    "                    self.obstaclesidx.add((i,j))\n",
    "        return self.obstaclesidx,self.obstacles\n",
    "\n",
    "    def isIndexValid(self,point):\n",
    "        if point[0]>=0 and point[0]<len(self.maze_grid) and point[1]>=0 and point[1]<len(self.maze_grid[0]):\n",
    "            if point not in self.obstaclesidx:\n",
    "                return True\n",
    "            else:\n",
    "                return False\n",
    "        else:\n",
    "            return False\n",
    "\n",
    "    def isValid(self,point):\n",
    "        pass\n",
    "        #if n[0]>=0 and n[0]<len(self.maze_grid) and n[1]>=0 and n[1]<<len(self.maze_grid[0]):\n",
    "        #    if point not in self.maze.obstaclesidx:\n",
    "        #        return True"
   ]
  },
  {
   "cell_type": "code",
   "execution_count": 160,
   "metadata": {
    "collapsed": false,
    "pycharm": {
     "name": "#%%\n"
    },
    "ExecuteTime": {
     "end_time": "2023-12-09T20:43:09.159781500Z",
     "start_time": "2023-12-09T20:43:09.130370800Z"
    }
   },
   "outputs": [],
   "source": [
    "class Planner:\n",
    "    def __init__(self,maze):\n",
    "        self.maze=maze\n",
    "\n",
    "    def neighbors(self,point):\n",
    "        nei=np.array([[1.0,0],[0,1],[-1,0],[0,-1]],dtype=float)\n",
    "        neigs=nei+np.array([point[0],point[1]])\n",
    "        valid_neigs=[]\n",
    "        for n in neigs:\n",
    "            if self.maze.isIndexValid(tuple(n)):\n",
    "                valid_neigs.append(tuple(n))\n",
    "        return valid_neigs\n",
    "\n",
    "    def heuristic(self,p1,p2):\n",
    "        return 0\n",
    "\n",
    "    def plot_path(self,path):\n",
    "        X, Y = map(list, zip(*path))\n",
    "        plt.plot(Y,X)\n",
    "        plt.plot(Y[0],X[0],'o')\n",
    "        plt.plot(Y[-1],X[-1],'x')\n",
    "\n",
    "    def a_star(self):\n",
    "        self.path=[]\n",
    "        self.frontier=[]\n",
    "        self.visited=set()\n",
    "        self.came_from={}\n",
    "        self.iters=0\n",
    "\n",
    "        if not (p.maze.isIndexValid(p.maze.start) and p.maze.isIndexValid(p.maze.end)):\n",
    "            print('Invalid start or end')\n",
    "            return\n",
    "            # Initialize Heap\n",
    "        c_s=0\n",
    "        cur=self.maze.start\n",
    "        heapq.heappush(self.frontier,(c_s+self.heuristic(cur,self.maze.end),cur))\n",
    "        self.visited.add(cur)\n",
    "\n",
    "        while(self.frontier and cur[1]!=self.maze.end):\n",
    "            c_s+=1\n",
    "            # Get next item in frontier\n",
    "            cur=heapq.heappop(self.frontier)\n",
    "            for n in self.neighbors(cur[1]):\n",
    "                # Push neighbours into the frontier Heap\n",
    "                if n not in self.visited:\n",
    "                    heapq.heappush(self.frontier,(c_s+self.heuristic(cur[1],self.maze.end),n))\n",
    "                    self.visited.add(n)\n",
    "                    self.came_from[n]=cur[1]\n",
    "                    self.iters+=1\n",
    "\n",
    "                    #Start from the end and go back until start is reached\n",
    "        cur = self.maze.end\n",
    "        while cur!=self.maze.start:\n",
    "            self.path.append(cur)\n",
    "            cur=self.came_from[cur]\n",
    "        self.path.append(cur)\n",
    "        self.path.reverse()\n",
    "        return self.path\n",
    "\n",
    "    def a_star_v2(self):\n",
    "        self.path=[]\n",
    "        self.frontier=[]\n",
    "        self.costs={}\n",
    "        self.visited=set()\n",
    "        self.iters=0\n",
    "        self.came_from={}\n",
    "\n",
    "        if not (p.maze.isIndexValid(p.maze.start) and p.maze.isIndexValid(p.maze.end)):\n",
    "            print('Invalid start or end')\n",
    "            return\n",
    "            # Initialize Heap\n",
    "        c_s=0\n",
    "        cur=self.maze.start\n",
    "        c_h=self.heuristic(cur,self.maze.end)\n",
    "        c_t=c_s+c_h\n",
    "        c=(c_t,c_s,c_h)\n",
    "        heapq.heappush(self.frontier,(c,cur))\n",
    "        self.visited.add(self.maze.start)\n",
    "        self.costs[cur]=c\n",
    "\n",
    "        #Add neighbors to heap and process them\n",
    "        while(self.frontier and cur[1]!=self.maze.end):\n",
    "            c_s+=1\n",
    "            #get next item in frontier\n",
    "            cur=heapq.heappop(self.frontier)\n",
    "            for n in self.neighbors(cur[1]):\n",
    "                if n not in self.visited:\n",
    "                    #Calculate Costs:\n",
    "                    c_h=self.heuristic(n,self.maze.end)\n",
    "                    c_t=c_s+c_h\n",
    "                    c=(c_t,c_s,c_h)\n",
    "                    #put item in frontier\n",
    "                    heapq.heappush(self.frontier,(c,n))\n",
    "                    self.costs[n]=c\n",
    "                    self.visited.add(n)\n",
    "                    self.came_from[n]=cur[1]\n",
    "                    self.iters+=1\n",
    "\n",
    "        #Start from the end:\n",
    "        self.path=[self.maze.end]\n",
    "        cur=self.maze.end\n",
    "        while cur!=self.maze.start:\n",
    "            min_cost=9999\n",
    "            for n in self.neighbors(cur):\n",
    "                if n in self.costs and n not in self.path and self.costs[n][0]<=min_cost:\n",
    "                    lowest_neigh=n\n",
    "                    min_cost=self.costs[n][0]\n",
    "            self.path.append(lowest_neigh)\n",
    "            cur=lowest_neigh\n",
    "\n",
    "        self.path.reverse()\n",
    "        return self.path"
   ]
  },
  {
   "cell_type": "code",
   "execution_count": 161,
   "metadata": {
    "ExecuteTime": {
     "end_time": "2023-12-09T20:43:10.513016Z",
     "start_time": "2023-12-09T20:43:09.156779100Z"
    }
   },
   "outputs": [
    {
     "data": {
      "text/plain": "<Figure size 640x480 with 1 Axes>",
      "image/png": "[encoded data removed]"
     },
     "metadata": {},
     "output_type": "display_data"
    }
   ],
   "source": [
    "\n",
    "m=Maze('images/maze.png',start=(10,10),end=(270,270),width=282)\n",
    "#m.write_playground()\n",
    "p=Planner(m)\n",
    "p.maze.show()\n",
    "\n",
    "shortest_path = p.a_star()\n",
    "if shortest_path:\n",
    "    shortest_path_coordinates = [(point[0], point[1]) for point in shortest_path]\n",
    "    #print(shortest_path_coordinates)\n",
    "    p.plot_path(shortest_path)"
   ]
  },
  {
   "cell_type": "code",
   "execution_count": 162,
   "metadata": {
    "ExecuteTime": {
     "end_time": "2023-12-09T20:43:10.569004900Z",
     "start_time": "2023-12-09T20:43:10.523231Z"
    }
   },
   "outputs": [],
   "source": [
    "def calculate_direction(point1, point2):\n",
    "    x1, y1 = point1\n",
    "    x2, y2 = point2\n",
    "\n",
    "    delta_x = x2 - x1\n",
    "    delta_y = y2 - y1\n",
    "\n",
    "    if delta_x > 0:\n",
    "        direction = \"down\"\n",
    "    elif delta_x < 0:\n",
    "        direction = \"up\"\n",
    "    else:\n",
    "        if delta_y > 0:\n",
    "            direction = \"right\"\n",
    "        elif delta_y < 0:\n",
    "            direction = \"left\"\n",
    "\n",
    "    return direction"
   ]
  },
  {
   "cell_type": "code",
   "execution_count": 163,
   "outputs": [],
   "source": [
    "%%run_python\n",
    "@onevent\n",
    "def left():\n",
    "    global motor_left_target, motor_right_target\n",
    "    motor_left_target = 50\n",
    "    motor_right_target = 100\n"
   ],
   "metadata": {
    "collapsed": false,
    "ExecuteTime": {
     "end_time": "2023-12-09T20:43:10.875438600Z",
     "start_time": "2023-12-09T20:43:10.529158800Z"
    }
   }
  },
  {
   "cell_type": "code",
   "execution_count": 164,
   "outputs": [],
   "source": [
    "%%run_python\n",
    "@onevent\n",
    "def right():\n",
    "    global motor_right_target, motor_left_target\n",
    "    motor_right_target = 50\n",
    "    motor_left_target = 100"
   ],
   "metadata": {
    "collapsed": false,
    "ExecuteTime": {
     "end_time": "2023-12-09T20:43:11.221539700Z",
     "start_time": "2023-12-09T20:43:10.878162400Z"
    }
   }
  },
  {
   "cell_type": "code",
   "execution_count": 165,
   "outputs": [],
   "source": [
    "%%run_python\n",
    "@onevent\n",
    "def forward():\n",
    "    global motor_right_target, motor_left_target\n",
    "    motor_right_target = 100\n",
    "    motor_left_target = 100"
   ],
   "metadata": {
    "collapsed": false,
    "ExecuteTime": {
     "end_time": "2023-12-09T20:43:11.572303800Z",
     "start_time": "2023-12-09T20:43:11.224105600Z"
    }
   }
  },
  {
   "cell_type": "code",
   "execution_count": 166,
   "outputs": [],
   "source": [
    "def turn_left():\n",
    "    send_event(\"left\")\n",
    "\n",
    "def turn_right():\n",
    "    send_event(\"right\")\n",
    "    \n",
    "def go_forward():\n",
    "    send_event(\"forward\")\n",
    "\n",
    "def move_robot(direction):\n",
    "    if direction == \"forward\":\n",
    "        go_forward()\n",
    "    # elif direction == \"down\":\n",
    "    #     move_backward()\n",
    "    elif direction == \"left\":\n",
    "        turn_left()\n",
    "    elif direction == \"right\":\n",
    "        turn_right()"
   ],
   "metadata": {
    "collapsed": false,
    "ExecuteTime": {
     "end_time": "2023-12-09T20:43:11.615696200Z",
     "start_time": "2023-12-09T20:43:11.589239800Z"
    }
   }
  },
  {
   "cell_type": "code",
   "execution_count": 167,
   "outputs": [
    {
     "name": "stdout",
     "output_type": "stream",
     "text": [
      "(10.0, 253.0)\n",
      "Current direction: right, Next direction: right\n",
      "Move forward\n",
      "(10.0, 254.0)\n",
      "Current direction: right, Next direction: right\n",
      "Move forward\n",
      "(10.0, 255.0)\n",
      "Current direction: right, Next direction: right\n",
      "Move forward\n",
      "(10.0, 256.0)\n",
      "Current direction: right, Next direction: right\n",
      "Move forward\n",
      "(10.0, 257.0)\n",
      "Current direction: right, Next direction: down\n",
      "Turn right to down\n",
      "(11.0, 257.0)\n",
      "Current direction: down, Next direction: down\n",
      "Move forward\n",
      "(12.0, 257.0)\n",
      "Current direction: down, Next direction: down\n",
      "Move forward\n"
     ]
    },
    {
     "ename": "KeyboardInterrupt",
     "evalue": "",
     "output_type": "error",
     "traceback": [
      "\u001B[1;31m---------------------------------------------------------------------------\u001B[0m",
      "\u001B[1;31mKeyboardInterrupt\u001B[0m                         Traceback (most recent call last)",
      "Cell \u001B[1;32mIn[167], line 21\u001B[0m\n\u001B[0;32m     18\u001B[0m         move_robot(\u001B[38;5;124m\"\u001B[39m\u001B[38;5;124mforward\u001B[39m\u001B[38;5;124m\"\u001B[39m)\n\u001B[0;32m     20\u001B[0m     \u001B[38;5;66;03m# Add a delay after each movement\u001B[39;00m\n\u001B[1;32m---> 21\u001B[0m     \u001B[43mtime\u001B[49m\u001B[38;5;241;43m.\u001B[39;49m\u001B[43msleep\u001B[49m\u001B[43m(\u001B[49m\u001B[38;5;241;43m2\u001B[39;49m\u001B[43m)\u001B[49m\n\u001B[0;32m     23\u001B[0m \u001B[38;5;28;01melse\u001B[39;00m:\n\u001B[0;32m     24\u001B[0m     \u001B[38;5;66;03m# Move the robot in the final direction\u001B[39;00m\n\u001B[0;32m     25\u001B[0m     \u001B[38;5;28mprint\u001B[39m(\u001B[38;5;124mf\u001B[39m\u001B[38;5;124m\"\u001B[39m\u001B[38;5;124mMove in the final direction: \u001B[39m\u001B[38;5;132;01m{\u001B[39;00mdirection\u001B[38;5;132;01m}\u001B[39;00m\u001B[38;5;124m\"\u001B[39m)\n",
      "\u001B[1;31mKeyboardInterrupt\u001B[0m: "
     ]
    }
   ],
   "source": [
    "import time\n",
    "\n",
    "for i in range(243, len(shortest_path_coordinates)):\n",
    "    direction = calculate_direction(shortest_path_coordinates[i - 1], shortest_path_coordinates[i])\n",
    "    print(shortest_path_coordinates[i])\n",
    "\n",
    "    if i < len(shortest_path_coordinates) - 1:\n",
    "        next_direction = calculate_direction(shortest_path_coordinates[i], shortest_path_coordinates[i + 1])\n",
    "        print(f\"Current direction: {direction}, Next direction: {next_direction}\")\n",
    "\n",
    "        if next_direction != direction:\n",
    "            # Turn the robot based on the change in direction\n",
    "            print(f\"Turn {direction} to {next_direction}\")\n",
    "            move_robot(next_direction)\n",
    "            if direction == \"right\" and next_direction == \"down\":\n",
    "                move_robot(\"right\")\n",
    "            elif direction == \"left\" and next_direction == \"down\":\n",
    "                move_robot(\"left\")\n",
    "            elif direction == \"right\" and next_direction == \"up\":\n",
    "                move_robot(\"left\")\n",
    "            elif direction == \"left\" and next_direction == \"up\":\n",
    "                move_robot(\"right\")\n",
    "        else:\n",
    "            # Move the robot forward if the direction is the same\n",
    "            print(\"Move forward\")\n",
    "            move_robot(\"forward\")\n",
    "\n",
    "        # Add a delay after each movement\n",
    "        time.sleep(2)\n",
    "\n",
    "    else:\n",
    "        # Move the robot in the final direction\n",
    "        print(f\"Move in the final direction: {direction}\")\n",
    "        move_robot(direction)\n",
    "\n",
    "    # Add a delay before the next iteration\n",
    "    time.sleep(2)"
   ],
   "metadata": {
    "collapsed": false,
    "ExecuteTime": {
     "end_time": "2023-12-09T20:43:37.752205300Z",
     "start_time": "2023-12-09T20:43:11.611138200Z"
    }
   }
  },
  {
   "cell_type": "code",
   "execution_count": null,
   "outputs": [],
   "source": [],
   "metadata": {
    "collapsed": false,
    "ExecuteTime": {
     "end_time": "2023-12-09T20:43:37.761481800Z",
     "start_time": "2023-12-09T20:43:37.756697200Z"
    }
   }
  }
 ],
 "metadata": {
  "kernelspec": {
   "display_name": "base",
   "language": "python",
   "name": "python3"
  },
  "language_info": {
   "codemirror_mode": {
    "name": "ipython",
    "version": 3
   },
   "file_extension": ".py",
   "mimetype": "text/x-python",
   "name": "python",
   "nbconvert_exporter": "python",
   "pygments_lexer": "ipython3",
   "version": "3.9.18"
  },
  "orig_nbformat": 4
 },
 "nbformat": 4,
 "nbformat_minor": 2
}
